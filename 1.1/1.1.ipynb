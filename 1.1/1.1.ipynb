{
 "cells": [
  {
   "attachments": {},
   "cell_type": "markdown",
   "metadata": {},
   "source": [
    "# Exercise 1"
   ]
  },
  {
   "attachments": {},
   "cell_type": "markdown",
   "metadata": {},
   "source": [
    "### What is a factory?\n",
    "A factory is a creational pattern that provides an interface for creating objects in a superclass, but allows subclasses to alter the type of objects that will be created.<br>In this case a factory was created to get an instance of the parser. This Factory is 'HsmrParserFactory' class that takes as input the type of parser (either HSMR_REPORT_PDF or HSMR_REPORT_TEXT from parserTypes.py) and returns an instance of the corresponding parser. It abstracts the process of object creation and allows the program to decide at runtime which Parser to detect based on the specific needs of the context."
   ]
  },
  {
   "attachments": {},
   "cell_type": "markdown",
   "metadata": {},
   "source": [
    "### Does the implementation of the factory method follow the Interface Segregation Principle?\n",
    "The Interface Segregation Principle (ISP) is one of the five principles of SOLID in object-oriented programming and design. It states that no client should be forced to depend on interfaces they do not use. This means that large interfaces should be split into smaller ones, so that clients will only have to know about the methods that are of interest to them.\n",
    "\n",
    "The ISP is mainly about clients and how they interact with the services they need. In this case because the clients are only invoking the method to create a parser, and they don't have to deal with any other methods that the Factory class provide, then this use of the Factory Method would conform to the Interface Segregation Principle."
   ]
  },
  {
   "attachments": {},
   "cell_type": "markdown",
   "metadata": {},
   "source": [
    "# Exercise 2"
   ]
  },
  {
   "attachments": {},
   "cell_type": "markdown",
   "metadata": {},
   "source": [
    "### Review the python files starting with Ccs. Are those files adhering to the single-responsibility principle: \"Every class should have only one responsibility”?\n",
    "\n",
    "The Single Responsibility Principle (SRP) states that every class should have one and only one job or responsibility.\n",
    "\n",
    "Looking at each of the provided Python classes:\n",
    "\n",
    "1. `CcsClassification`: This class is responsible for handling the CCS classification information from a file. Its responsibilities include reading from a file, manipulating the read data, and providing access to the data. We could argue that reading the file and manipulating the data are two separate responsibilities, but they can be considered closely related enough to fall within the boundaries of the SRP.\n",
    "\n",
    "2. `CcsHospitalDataExtracter`: This class fetches and reads HSMR reports, processes the data, and plots the results. It clearly violates the SRP since it is responsible for handling fetching, reading, processing, and visualization.\n",
    "\n",
    "3. `CcsHospitalInfo`: This class is responsible for managing and manipulating data about a hospital, and saving that data to a file. Similar to `CcsClassification`, it could be argued that it has more than one responsibility. However, all its methods concern handling hospital information, which could be seen as a single responsibility. "
   ]
  },
  {
   "attachments": {},
   "cell_type": "markdown",
   "metadata": {},
   "source": [
    "# Exercise 3"
   ]
  },
  {
   "attachments": {},
   "cell_type": "markdown",
   "metadata": {},
   "source": [
    "### In the code, several base classes are used. Can you find examples of the Liskov substitution principle: \"Functions that use pointers or references to base classes must be able to use objects of derived classes without knowing it.\" Explain your answer.\n",
    "\n",
    "The Liskov Substitution Principle, which is a part of the SOLID principles of Object-Oriented Design, essentially states that if a program is using a Base class, then the reference to the Base class can be replaced with a Derived class without affecting the functionality of the program.\n",
    "\n",
    "In the context of this code, TestCase is a base class provided by Python's unittest framework, and classes TestFileDownloader, TestGet_clean_number_list, and TestGoogleCustomSearchApi are derived from it. So, they are believed to be examples of Liskov substitution as they are substituting the TestCase class and its functionality with their own functionality, which is designed to test specific methods in this application.\n",
    "\n",
    "However it can also be considered as not an strict sense of Liskov substitution example, because LSP is more about preserving the semantics of a base class in a subclass, and in this case, the semantics of a test case class are not really being preserved in these derived classes. Rather, each derived class is defining a new behavior specific to the method it's testing. "
   ]
  },
  {
   "attachments": {},
   "cell_type": "markdown",
   "metadata": {},
   "source": [
    "# Exercise 4"
   ]
  },
  {
   "attachments": {},
   "cell_type": "markdown",
   "metadata": {},
   "source": [
    "### Search for the Settings class. What makes this class a singleton object and is a singleton object SOLID?\n",
    "\n",
    "The `LocalSettings` class in this script is a Singleton class. This means that only one instance of this class will be created, and all subsequent attempts to create a new instance will instead return the first instance.\n",
    "\n",
    "Here are the characteristics that make `LocalSettings` a Singleton:\n",
    "\n",
    "1. The class attribute `instance` is used to store the one and only instance of the class. It is initially set to `None`.\n",
    "2. The `__new__` method is overridden. This method is responsible for creating and returning a new object. In this case, it checks if an instance already exists. If not, it creates a new instance of the internal `__LocalSettings` class and assigns it to `LocalSettings.instance`. If an instance does exist, it simply returns the existing instance.\n",
    "3. The `__init__` method also checks if an instance already exists, and if not, it creates one. However, since `__new__` is always called before `__init__`, this check is somewhat redundant in this case. \n",
    "\n",
    "About the SOLID principles: \n",
    "\n",
    "The Singleton Pattern could potentially violate the Single Responsibility Principle (SRP) if it's used for anything beyond ensuring there's only a single instance, because then it's doing more than one thing.\n",
    "\n",
    "It also could violate the Dependency Inversion Principle (DIP) as it could make high-level modules dependent on the Singleton class itself, instead of an abstraction.\n",
    " \n",
    "\n",
    "In conclusion, as long as careful considerations are taken into account, Singleton classes can be used in a way that's in line with SOLID principles. "
   ]
  },
  {
   "attachments": {},
   "cell_type": "markdown",
   "metadata": {},
   "source": [
    "### The hospital types codes are stored in a python module hospital_types.py. Is this a logical solution?\n",
    "Storing constant values, such as these hospital type codes, in a separate module is common and acceptable. This approach has several advantages:\n",
    "\n",
    "First, All constant values are located in one place, making it easy to find and modify them.\n",
    "Second, Numbers are literal values with unexplained meaning. If we were to use \"0602\" directly in our code, it would not be immediately clear what it means. By using a descriptive constant name like `ACADEMY_HOSPITAL`, the code becomes more readable and maintainable.\n",
    "Also, these constant values can be imported and used in multiple other modules without the need to redefine them. \n",
    "\n",
    "In the context of SOLID principles, this approach also aligns with the Open-Closed Principle. The Open-Closed Principle states that software entities should be open for extension but closed for modification. By storing these values in a module, we can easily add more constants as the program grows (extension), but we won't need to modify the existing constants or the code that uses them (closed for modification)."
   ]
  },
  {
   "attachments": {},
   "cell_type": "markdown",
   "metadata": {},
   "source": [
    "### Is there an alternative solution for these kinds of local settings and parameters? Please elaborate.\n",
    "Yes, there are alternative solutions for managing local settings and parameters in an application. Here are a few common approaches:\n",
    "\n",
    "One way is that instead of storing settings directly in code or modules, we can use configuration files (such as JSON, or YAML files) to store the settings. The application can read these files at runtime to retrieve the necessary configuration values. This approach allows for easy modification of settings without modifying the code itself. It also provides flexibility in managing different settings for different environments.\n",
    "   \n",
    "Command-Line Arguments is another approach. Instead of storing settings in a separate file or module, we can pass them as command-line arguments when running the application. The application can parse these arguments and use them to configure its behavior. This approach provides flexibility and allows for easy customization of settings during application startup.\n",
    "  "
   ]
  },
  {
   "cell_type": "code",
   "execution_count": null,
   "metadata": {
    "vscode": {
     "languageId": "plaintext"
    }
   },
   "outputs": [],
   "source": []
  }
 ],
 "metadata": {
  "language_info": {
   "name": "python"
  },
  "orig_nbformat": 4
 },
 "nbformat": 4,
 "nbformat_minor": 2
}
