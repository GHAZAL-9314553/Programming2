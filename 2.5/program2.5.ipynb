{
 "cells": [
  {
   "cell_type": "code",
   "execution_count": 5,
   "metadata": {},
   "outputs": [],
   "source": [
    "import dask.dataframe as dd\n",
    "import pandas as pd\n",
    "\n",
    "# Read the InterPROscan output file into a Dask DataFrame\n",
    "filename = '/data/dataprocessing/interproscan/all_bacilli.tsv'\n",
    "df = dd.read_csv(filename, sep='\\t', dtype=str, header=None, names=[\"0\", \"1\", \"2\",\"3\",\"4\",\"5\",\"6\",\"7\",\"8\",\"9\",\"10\",\"11\",\"12\",\"13\",\"14\"])\n"
   ]
  },
  {
   "cell_type": "code",
   "execution_count": 6,
   "metadata": {},
   "outputs": [
    {
     "data": {
      "text/html": [
       "<div>\n",
       "<style scoped>\n",
       "    .dataframe tbody tr th:only-of-type {\n",
       "        vertical-align: middle;\n",
       "    }\n",
       "\n",
       "    .dataframe tbody tr th {\n",
       "        vertical-align: top;\n",
       "    }\n",
       "\n",
       "    .dataframe thead th {\n",
       "        text-align: right;\n",
       "    }\n",
       "</style>\n",
       "<table border=\"1\" class=\"dataframe\">\n",
       "  <thead>\n",
       "    <tr style=\"text-align: right;\">\n",
       "      <th></th>\n",
       "      <th>0</th>\n",
       "      <th>1</th>\n",
       "      <th>2</th>\n",
       "      <th>3</th>\n",
       "      <th>4</th>\n",
       "      <th>5</th>\n",
       "      <th>6</th>\n",
       "      <th>7</th>\n",
       "      <th>8</th>\n",
       "      <th>9</th>\n",
       "      <th>10</th>\n",
       "      <th>11</th>\n",
       "      <th>12</th>\n",
       "      <th>13</th>\n",
       "      <th>14</th>\n",
       "    </tr>\n",
       "  </thead>\n",
       "  <tbody>\n",
       "    <tr>\n",
       "      <th>0</th>\n",
       "      <td>gi|29898682|gb|AAP11954.1|</td>\n",
       "      <td>92d1264e347e149248231cb9b649388c</td>\n",
       "      <td>547</td>\n",
       "      <td>TIGRFAM</td>\n",
       "      <td>TIGR03882</td>\n",
       "      <td>cyclo_dehyd_2: bacteriocin biosynthesis cyclod...</td>\n",
       "      <td>2</td>\n",
       "      <td>131</td>\n",
       "      <td>1.6E-21</td>\n",
       "      <td>T</td>\n",
       "      <td>25-04-2022</td>\n",
       "      <td>IPR022291</td>\n",
       "      <td>Bacteriocin biosynthesis, cyclodehydratase domain</td>\n",
       "      <td>-</td>\n",
       "      <td>-</td>\n",
       "    </tr>\n",
       "    <tr>\n",
       "      <th>1</th>\n",
       "      <td>gi|29898682|gb|AAP11954.1|</td>\n",
       "      <td>92d1264e347e149248231cb9b649388c</td>\n",
       "      <td>547</td>\n",
       "      <td>TIGRFAM</td>\n",
       "      <td>TIGR03604</td>\n",
       "      <td>TOMM_cyclo_SagD: thiazole/oxazole-forming pept...</td>\n",
       "      <td>161</td>\n",
       "      <td>547</td>\n",
       "      <td>0.0</td>\n",
       "      <td>T</td>\n",
       "      <td>25-04-2022</td>\n",
       "      <td>IPR027624</td>\n",
       "      <td>Thiazole/oxazole-forming peptide maturase, Sag...</td>\n",
       "      <td>-</td>\n",
       "      <td>-</td>\n",
       "    </tr>\n",
       "    <tr>\n",
       "      <th>2</th>\n",
       "      <td>gi|29898682|gb|AAP11954.1|</td>\n",
       "      <td>92d1264e347e149248231cb9b649388c</td>\n",
       "      <td>547</td>\n",
       "      <td>ProSiteProfiles</td>\n",
       "      <td>PS51664</td>\n",
       "      <td>YcaO domain profile.</td>\n",
       "      <td>159</td>\n",
       "      <td>547</td>\n",
       "      <td>75.396477</td>\n",
       "      <td>T</td>\n",
       "      <td>25-04-2022</td>\n",
       "      <td>IPR003776</td>\n",
       "      <td>YcaO-like domain</td>\n",
       "      <td>-</td>\n",
       "      <td>-</td>\n",
       "    </tr>\n",
       "    <tr>\n",
       "      <th>3</th>\n",
       "      <td>gi|29898682|gb|AAP11954.1|</td>\n",
       "      <td>92d1264e347e149248231cb9b649388c</td>\n",
       "      <td>547</td>\n",
       "      <td>Gene3D</td>\n",
       "      <td>G3DSA:3.30.160.660</td>\n",
       "      <td>-</td>\n",
       "      <td>311</td>\n",
       "      <td>452</td>\n",
       "      <td>9.1E-46</td>\n",
       "      <td>T</td>\n",
       "      <td>25-04-2022</td>\n",
       "      <td>-</td>\n",
       "      <td>-</td>\n",
       "      <td>NaN</td>\n",
       "      <td>NaN</td>\n",
       "    </tr>\n",
       "    <tr>\n",
       "      <th>4</th>\n",
       "      <td>gi|29898682|gb|AAP11954.1|</td>\n",
       "      <td>92d1264e347e149248231cb9b649388c</td>\n",
       "      <td>547</td>\n",
       "      <td>Gene3D</td>\n",
       "      <td>G3DSA:3.30.40.250</td>\n",
       "      <td>-</td>\n",
       "      <td>191</td>\n",
       "      <td>274</td>\n",
       "      <td>9.1E-46</td>\n",
       "      <td>T</td>\n",
       "      <td>25-04-2022</td>\n",
       "      <td>-</td>\n",
       "      <td>-</td>\n",
       "      <td>NaN</td>\n",
       "      <td>NaN</td>\n",
       "    </tr>\n",
       "  </tbody>\n",
       "</table>\n",
       "</div>"
      ],
      "text/plain": [
       "                            0                                 1    2  \\\n",
       "0  gi|29898682|gb|AAP11954.1|  92d1264e347e149248231cb9b649388c  547   \n",
       "1  gi|29898682|gb|AAP11954.1|  92d1264e347e149248231cb9b649388c  547   \n",
       "2  gi|29898682|gb|AAP11954.1|  92d1264e347e149248231cb9b649388c  547   \n",
       "3  gi|29898682|gb|AAP11954.1|  92d1264e347e149248231cb9b649388c  547   \n",
       "4  gi|29898682|gb|AAP11954.1|  92d1264e347e149248231cb9b649388c  547   \n",
       "\n",
       "                 3                   4  \\\n",
       "0          TIGRFAM           TIGR03882   \n",
       "1          TIGRFAM           TIGR03604   \n",
       "2  ProSiteProfiles             PS51664   \n",
       "3           Gene3D  G3DSA:3.30.160.660   \n",
       "4           Gene3D   G3DSA:3.30.40.250   \n",
       "\n",
       "                                                   5    6    7          8  9  \\\n",
       "0  cyclo_dehyd_2: bacteriocin biosynthesis cyclod...    2  131    1.6E-21  T   \n",
       "1  TOMM_cyclo_SagD: thiazole/oxazole-forming pept...  161  547        0.0  T   \n",
       "2                               YcaO domain profile.  159  547  75.396477  T   \n",
       "3                                                  -  311  452    9.1E-46  T   \n",
       "4                                                  -  191  274    9.1E-46  T   \n",
       "\n",
       "           10         11                                                 12  \\\n",
       "0  25-04-2022  IPR022291  Bacteriocin biosynthesis, cyclodehydratase domain   \n",
       "1  25-04-2022  IPR027624  Thiazole/oxazole-forming peptide maturase, Sag...   \n",
       "2  25-04-2022  IPR003776                                   YcaO-like domain   \n",
       "3  25-04-2022          -                                                  -   \n",
       "4  25-04-2022          -                                                  -   \n",
       "\n",
       "    13   14  \n",
       "0    -    -  \n",
       "1    -    -  \n",
       "2    -    -  \n",
       "3  NaN  NaN  \n",
       "4  NaN  NaN  "
      ]
     },
     "execution_count": 6,
     "metadata": {},
     "output_type": "execute_result"
    }
   ],
   "source": [
    "df.head()"
   ]
  },
  {
   "cell_type": "code",
   "execution_count": 10,
   "metadata": {},
   "outputs": [
    {
     "name": "stdout",
     "output_type": "stream",
     "text": [
      "Distinct protein annotations: 9704\n"
     ]
    }
   ],
   "source": [
    "\n",
    "# 1. How many distinct protein annotations are found in the dataset?\n",
    "distinct_annotations = df['11'].nunique().compute(num_worker=16)\n",
    "print(\"Distinct protein annotations:\", distinct_annotations)\n"
   ]
  },
  {
   "cell_type": "code",
   "execution_count": 12,
   "metadata": {},
   "outputs": [
    {
     "name": "stdout",
     "output_type": "stream",
     "text": [
      "Average annotations per protein: 18.63260779886712\n"
     ]
    }
   ],
   "source": [
    "\n",
    "# 2. How many annotations does a protein have on average?\n",
    "average_annotations = df.groupby('1').size().mean().compute(num_worker=16)\n",
    "print(\"Average annotations per protein:\", average_annotations)\n",
    "\n"
   ]
  },
  {
   "cell_type": "code",
   "execution_count": 13,
   "metadata": {},
   "outputs": [
    {
     "name": "stdout",
     "output_type": "stream",
     "text": [
      "Most common GO Term: gi\n"
     ]
    }
   ],
   "source": [
    "# 3. What is the most common GO Term found?\n",
    "go_terms = df['0'].str.split('|').explode(num_worker=16)\n",
    "most_common_go_term = go_terms.value_counts().nlargest(1).compute().index[0]\n",
    "print(\"Most common GO Term:\", most_common_go_term)\n"
   ]
  },
  {
   "cell_type": "code",
   "execution_count": 15,
   "metadata": {},
   "outputs": [
    {
     "name": "stdout",
     "output_type": "stream",
     "text": [
      "Average size of InterPRO feature: 131.73178916966685\n"
     ]
    }
   ],
   "source": [
    "# 4. What is the average size of an InterPRO feature found in the dataset?\n",
    "df['FeatureSize'] = df['7'].astype(int) - df['6'].astype(int)\n",
    "average_feature_size = df['FeatureSize'].mean().compute(num_worker=16)\n",
    "print(\"Average size of InterPRO feature:\", average_feature_size)\n"
   ]
  },
  {
   "cell_type": "markdown",
   "metadata": {},
   "source": [
    "5-if we choose column 11: I think cplumn 11 would be correct .\n",
    "\n",
    "What are the top 10 most common InterPRO features?\n",
    "\n",
    "top_10_interpro_features = df['11'].value_counts().nlargest(10).compute(num_worker=16)\n",
    "\n",
    "print(\"Top 10 most common InterPRO features:\")\n",
    "\n",
    "print(top_10_interpro_features) the result would be:\n",
    "\n",
    "Top 10 most common InterPRO features:\n",
    "\n",
    "\"-\"                 885695\n",
    "\n",
    "IPR027417     18306\n",
    "\n",
    "IPR003439      6926\n",
    "\n",
    "IPR036388      6293\n",
    "\n",
    "IPR002347      6113\n",
    "\n",
    "IPR036259      4678\n",
    "\n",
    "IPR003593      4572\n",
    "\n",
    "IPR000182      4425\n",
    "\n",
    "IPR000515      4357\n",
    "\n",
    "IPR036390      4338\n",
    "\n",
    "Name: InterPRO, dtype: int64"
   ]
  },
  {
   "cell_type": "code",
   "execution_count": 16,
   "metadata": {},
   "outputs": [
    {
     "name": "stdout",
     "output_type": "stream",
     "text": [
      "Top 10 most common InterPRO features:\n",
      "1\n",
      "94ea27fb4472c582a7da936fe00ec0e6    754\n",
      "1df9d779279633f438bfd41efb634b79    744\n",
      "a5a05c1c3ba548d9d50936d7322c76a2    720\n",
      "f041ced4ff981a17f11b868235c3ff07    676\n",
      "193c4602f60c756b2c666286c2f57e29    667\n",
      "cf1e8b5bebfc95161e321eb0aabaf5f3    646\n",
      "f6c2ac3eac5236e1ed0b29843de44aea    620\n",
      "e4218339be02b7550e1b08f34391ace1    600\n",
      "61a3c4ca03785def2693a12e00d6f10e    595\n",
      "4ed68ef068f96e5c52e13ffd4f6c4161    594\n",
      "Name: count, dtype: int64\n"
     ]
    }
   ],
   "source": [
    "# 5. What are the top 10 most common InterPRO features?\n",
    "top_10_interpro_features = df['1'].value_counts().nlargest(10).compute(num_worker=16)\n",
    "print(\"Top 10 most common InterPRO features:\")\n",
    "print(top_10_interpro_features)\n"
   ]
  },
  {
   "cell_type": "code",
   "execution_count": 17,
   "metadata": {},
   "outputs": [
    {
     "name": "stdout",
     "output_type": "stream",
     "text": [
      "Top 10 most common InterPRO features with similar size:\n",
      "1\n",
      "cf1e8b5bebfc95161e321eb0aabaf5f3    544\n",
      "1df9d779279633f438bfd41efb634b79    527\n",
      "da80a6f8af08c7570750a95ef56c673e    510\n",
      "f6c2ac3eac5236e1ed0b29843de44aea    496\n",
      "122c52b97e2cada8071572a9d4cae8d9    480\n",
      "b6963ad52c5360a9a725016ca58df5b7    476\n",
      "ecf94cf431c6c2a45007e600117fa77d    448\n",
      "f2c6294f06ff53f6066df6d707107931    442\n",
      "78db5b49e42e410c45833186184aeff9    440\n",
      "60c998a951d983add1bcb1e44e9f5f25    437\n",
      "Name: count, dtype: int64\n"
     ]
    }
   ],
   "source": [
    "# 6. If you select InterPRO features that are almost the same size as the protein itself, what is the top 10 then?\n",
    "protein_size = df['2'].astype(int)\n",
    "similar_size_threshold = 0.9  # 90-100% similarity\n",
    "similar_size_features = df[abs(df['FeatureSize'] - protein_size) / protein_size <= similar_size_threshold]\n",
    "top_10_similar_size_features = similar_size_features['1'].value_counts().nlargest(10).compute(num_worker=16)\n",
    "print(\"Top 10 most common InterPRO features with similar size:\")\n",
    "print(top_10_similar_size_features)"
   ]
  },
  {
   "cell_type": "code",
   "execution_count": 38,
   "metadata": {},
   "outputs": [
    {
     "name": "stdout",
     "output_type": "stream",
     "text": [
      "the 1772071\n",
      "protein 1615486\n",
      "of 1392880\n",
      "phobius 1323498\n",
      "a 1303154\n",
      "region 1293038\n",
      "in 1140534\n",
      "predicted 1135136\n",
      "to 1134421\n",
      "membrane-bound 1133013\n"
     ]
    }
   ],
   "source": [
    "# 7. If you look at those features which also have textual annotation, what is the top 10 most common word found in that annotation?\n",
    "from collections import Counter\n",
    "\n",
    "text_annotations = df['3'] + ' ' + df['4'] + ' ' + df['5'] + df['11'] + df['12']\n",
    "text_annotations = text_annotations.str.lower().str.replace(r'[^a-zA-Z0-9\\s]', '').str.replace(r'\\s+', ' ')\n",
    "\n",
    "# Count the frequency of each word\n",
    "word_counts = Counter(word for annotation in text_annotations for word in annotation.split())\n",
    "\n",
    "# Get the top 10 most common words\n",
    "top_10_words = word_counts.most_common(10)\n",
    "\n",
    "# Print the results\n",
    "for word, count in top_10_words:\n",
    "    print(word, count)\n",
    "\n"
   ]
  },
  {
   "cell_type": "code",
   "execution_count": 35,
   "metadata": {},
   "outputs": [
    {
     "name": "stdout",
     "output_type": "stream",
     "text": [
      "rmtype1_s_sma198orf994p-trd2-cr2_like 1\n",
      "cd17494 1\n",
      "ipr019057 1\n",
      "pf09553 1\n",
      "anf00014 1\n",
      "ipr040871 1\n",
      "pf17914 1\n",
      "(cmo5u34)-methyltransferase 1\n",
      "tigr00740: 1\n",
      "tigr00740 1\n"
     ]
    }
   ],
   "source": [
    "# 8. What is the top 10 least common word found in that annotation?\n",
    "\n",
    "top_10_least_common_words = word_counts.most_common()[:-11:-1]\n",
    "\n",
    "for word, count in top_10_least_common_words:\n",
    "    print(word, count)"
   ]
  },
  {
   "cell_type": "code",
   "execution_count": 39,
   "metadata": {},
   "outputs": [
    {
     "name": "stdout",
     "output_type": "stream",
     "text": [
      "domain 749332\n",
      "superfamily 655420\n",
      "protein 638130\n",
      "panther 476527\n",
      "pfam 443002\n",
      "gene3d 423190\n",
      "the 387517\n",
      "of 350416\n",
      "a 265586\n",
      "phobius 264129\n"
     ]
    }
   ],
   "source": [
    "# 9. Combining answers for Q6 and Q7, what are the 10 most common words found for the largest InterPRO features?\n",
    "from collections import Counter\n",
    "# Select InterPRO features that are almost the same size as the protein itself\n",
    "protein_size = df['2'].astype(int)\n",
    "similar_size_threshold = 0.9  # 90-100% similarity\n",
    "similar_size_features = df[abs(df['FeatureSize'] - protein_size) / protein_size <= similar_size_threshold]\n",
    "\n",
    "# Get the textual annotation columns for the selected features\n",
    "text_annotations = similar_size_features['3'] + ' ' + similar_size_features['4'] + ' ' + similar_size_features['5'] + similar_size_features['11'] + similar_size_features['12']\n",
    "text_annotations = text_annotations.str.lower().str.replace(r'[^a-zA-Z0-9\\s]', '').str.replace(r'\\s+', ' ')\n",
    "\n",
    "# Count the frequency of each word\n",
    "word_counts = Counter(word for annotation in text_annotations for word in annotation.split())\n",
    "\n",
    "# Get the top 10 most common words\n",
    "top_10_words = word_counts.most_common(10)\n",
    "\n",
    "# Print the results\n",
    "for word, count in top_10_words:\n",
    "    print(word, count)\n"
   ]
  },
  {
   "cell_type": "code",
   "execution_count": 43,
   "metadata": {},
   "outputs": [
    {
     "name": "stderr",
     "output_type": "stream",
     "text": [
      "/homes/gshosseinijapalagh/.local/lib/python3.9/site-packages/dask/dataframe/multi.py:1291: UserWarning: Concatenating dataframes with unknown divisions.\n",
      "We're assuming that the indices of each dataframes are \n",
      " aligned. This assumption is not generally safe.\n",
      "  warnings.warn(\n"
     ]
    },
    {
     "name": "stdout",
     "output_type": "stream",
     "text": [
      "Coefficient of correlation: 0.17766055482398543\n"
     ]
    }
   ],
   "source": [
    "# What is the coefficient of correlation between the size of the protein and the number of features found?\n",
    "\n",
    "\n",
    "# Calculate the coefficient of correlation between protein size and number of features\n",
    "coefficient_of_correlation = df['2'].astype(int).corr(df['7'].astype(int) - df['6'].astype(int))\n",
    "\n",
    "# Compute the result\n",
    "coefficient_of_correlation_result = coefficient_of_correlation.compute(num_worker=16)\n",
    "\n",
    "# Print the result\n",
    "print(\"Coefficient of correlation:\", coefficient_of_correlation_result)\n",
    "\n"
   ]
  },
  {
   "cell_type": "code",
   "execution_count": 48,
   "metadata": {},
   "outputs": [
    {
     "name": "stdout",
     "output_type": "stream",
     "text": [
      "Index(['gi|29898682|gb|AAP11954.1|', '92d1264e347e149248231cb9b649388c',\n",
      "       'TIGRFAM', 'TIGR03882',\n",
      "       'cyclo_dehyd_2: bacteriocin biosynthesis cyclodehydratase domain', '2',\n",
      "       '131', '1.6E-21', 'T', '25-04-2022', 'IPR022291',\n",
      "       'Bacteriocin biosynthesis, cyclodehydratase domain', '-', '-.1',\n",
      "       'FeatureSize'],\n",
      "      dtype='object')\n"
     ]
    }
   ],
   "source": [
    "names=[\"protein_annotation\", \"protein_id\", \"protein_size\", \"feature_type\", \"feature_id\", \"feature_description\", \"start_position\", \"end_position\", \"e_value\", \"status\", \"date\", \"interpro_feature_id\", \"interpro_description\", \"textual_annotation_1\", \"textual_annotation_2\"])\n",
    "\n"
   ]
  }
 ],
 "metadata": {
  "kernelspec": {
   "display_name": "Python 3",
   "language": "python",
   "name": "python3"
  },
  "language_info": {
   "codemirror_mode": {
    "name": "ipython",
    "version": 3
   },
   "file_extension": ".py",
   "mimetype": "text/x-python",
   "name": "python",
   "nbconvert_exporter": "python",
   "pygments_lexer": "ipython3",
   "version": "3.9.2"
  },
  "orig_nbformat": 4
 },
 "nbformat": 4,
 "nbformat_minor": 2
}
